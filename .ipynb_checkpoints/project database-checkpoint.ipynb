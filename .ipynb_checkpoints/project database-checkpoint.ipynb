{
 "cells": [
  {
   "cell_type": "code",
   "execution_count": 1,
   "metadata": {},
   "outputs": [
    {
     "name": "stdout",
     "output_type": "stream",
     "text": [
      "  student    id  math  database  software  python    gpa  total_degree  \\\n",
      "0    ali   5552    87        98        76      88  87.25           349   \n",
      "1  maged   5225    88        56        66      90  75.00           300   \n",
      "2   lara   5258    66        77        87      89  79.75           319   \n",
      "3   lily   5895    32        45        70      65  53.00           212   \n",
      "\n",
      "   status department rating  \n",
      "0    pass         cs     A+  \n",
      "1    pass         cs     B+  \n",
      "2    pass         cs      A  \n",
      "3  failed         cs      C  \n"
     ]
    }
   ],
   "source": [
    "import pandas as pd\n",
    "import numpy as np\n",
    "import matplotlib.pyplot as plt\n",
    "df=pd.read_excel(\"xml.xlsx\")\n",
    "print(pd.DataFrame(df))\n",
    "\n",
    "\n",
    "\n",
    "    \n"
   ]
  },
  {
   "cell_type": "markdown",
   "metadata": {},
   "source": [
    "## display the data for each student "
   ]
  },
  {
   "cell_type": "code",
   "execution_count": 2,
   "metadata": {},
   "outputs": [
    {
     "name": "stdout",
     "output_type": "stream",
     "text": [
      "  student    id  math  database  software  python    gpa  total_degree  \\\n",
      "0    ali   5552    87        98        76      88  87.25           349   \n",
      "1  maged   5225    88        56        66      90  75.00           300   \n",
      "2   lara   5258    66        77        87      89  79.75           319   \n",
      "3   lily   5895    32        45        70      65  53.00           212   \n",
      "\n",
      "   status department rating  \n",
      "0    pass         cs     A+  \n",
      "1    pass         cs     B+  \n",
      "2    pass         cs      A  \n",
      "3  failed         cs      C  \n"
     ]
    }
   ],
   "source": [
    "def disply():\n",
    "    return print(df)\n",
    "disply()"
   ]
  },
  {
   "cell_type": "markdown",
   "metadata": {},
   "source": [
    "## 1-display the data for each student /specific student\n"
   ]
  },
  {
   "cell_type": "code",
   "execution_count": 3,
   "metadata": {},
   "outputs": [
    {
     "name": "stdout",
     "output_type": "stream",
     "text": [
      "Enter Your Id:5552\n"
     ]
    },
    {
     "data": {
      "text/html": [
       "<div>\n",
       "<style scoped>\n",
       "    .dataframe tbody tr th:only-of-type {\n",
       "        vertical-align: middle;\n",
       "    }\n",
       "\n",
       "    .dataframe tbody tr th {\n",
       "        vertical-align: top;\n",
       "    }\n",
       "\n",
       "    .dataframe thead th {\n",
       "        text-align: right;\n",
       "    }\n",
       "</style>\n",
       "<table border=\"1\" class=\"dataframe\">\n",
       "  <thead>\n",
       "    <tr style=\"text-align: right;\">\n",
       "      <th></th>\n",
       "      <th>student</th>\n",
       "      <th>id</th>\n",
       "      <th>status</th>\n",
       "      <th>department</th>\n",
       "    </tr>\n",
       "  </thead>\n",
       "  <tbody>\n",
       "    <tr>\n",
       "      <th>0</th>\n",
       "      <td>ali</td>\n",
       "      <td>5552</td>\n",
       "      <td>pass</td>\n",
       "      <td>cs</td>\n",
       "    </tr>\n",
       "  </tbody>\n",
       "</table>\n",
       "</div>"
      ],
      "text/plain": [
       "  student    id status department\n",
       "0    ali   5552   pass         cs"
      ]
     },
     "execution_count": 3,
     "metadata": {},
     "output_type": "execute_result"
    }
   ],
   "source": [
    "def disply_stud():\n",
    "    \n",
    "    id_stud=int(input(\"enter your id:\".title()))\n",
    "    return df.loc[df.id==id_stud,[\"student\",\"id\",\"status\",\"department\"]]\n",
    "disply_stud()"
   ]
  },
  {
   "cell_type": "markdown",
   "metadata": {},
   "source": [
    "## 2-display the sources for specific student\n"
   ]
  },
  {
   "cell_type": "code",
   "execution_count": 4,
   "metadata": {},
   "outputs": [
    {
     "name": "stdout",
     "output_type": "stream",
     "text": [
      "Enter Your Id:5552\n"
     ]
    },
    {
     "data": {
      "text/html": [
       "<div>\n",
       "<style scoped>\n",
       "    .dataframe tbody tr th:only-of-type {\n",
       "        vertical-align: middle;\n",
       "    }\n",
       "\n",
       "    .dataframe tbody tr th {\n",
       "        vertical-align: top;\n",
       "    }\n",
       "\n",
       "    .dataframe thead th {\n",
       "        text-align: right;\n",
       "    }\n",
       "</style>\n",
       "<table border=\"1\" class=\"dataframe\">\n",
       "  <thead>\n",
       "    <tr style=\"text-align: right;\">\n",
       "      <th></th>\n",
       "      <th>student</th>\n",
       "      <th>id</th>\n",
       "      <th>math</th>\n",
       "      <th>database</th>\n",
       "      <th>software</th>\n",
       "      <th>python</th>\n",
       "      <th>gpa</th>\n",
       "      <th>total_degree</th>\n",
       "      <th>status</th>\n",
       "      <th>department</th>\n",
       "      <th>rating</th>\n",
       "    </tr>\n",
       "  </thead>\n",
       "  <tbody>\n",
       "    <tr>\n",
       "      <th>0</th>\n",
       "      <td>ali</td>\n",
       "      <td>5552</td>\n",
       "      <td>87</td>\n",
       "      <td>98</td>\n",
       "      <td>76</td>\n",
       "      <td>88</td>\n",
       "      <td>87.25</td>\n",
       "      <td>349</td>\n",
       "      <td>pass</td>\n",
       "      <td>cs</td>\n",
       "      <td>A+</td>\n",
       "    </tr>\n",
       "  </tbody>\n",
       "</table>\n",
       "</div>"
      ],
      "text/plain": [
       "  student    id  math  database  software  python    gpa  total_degree status  \\\n",
       "0    ali   5552    87        98        76      88  87.25           349   pass   \n",
       "\n",
       "  department rating  \n",
       "0         cs     A+  "
      ]
     },
     "execution_count": 4,
     "metadata": {},
     "output_type": "execute_result"
    }
   ],
   "source": [
    "def disply_student_result():\n",
    "    \n",
    "    id_stud=int(input(\"enter your id:\".title()))\n",
    "    return df[df.id==id_stud]\n",
    "disply_student_result()"
   ]
  },
  {
   "cell_type": "markdown",
   "metadata": {},
   "source": [
    "## 3-display the total grades\n"
   ]
  },
  {
   "cell_type": "code",
   "execution_count": 5,
   "metadata": {},
   "outputs": [
    {
     "name": "stdout",
     "output_type": "stream",
     "text": [
      "Enter Your Id:5552\n"
     ]
    },
    {
     "data": {
      "text/html": [
       "<div>\n",
       "<style scoped>\n",
       "    .dataframe tbody tr th:only-of-type {\n",
       "        vertical-align: middle;\n",
       "    }\n",
       "\n",
       "    .dataframe tbody tr th {\n",
       "        vertical-align: top;\n",
       "    }\n",
       "\n",
       "    .dataframe thead th {\n",
       "        text-align: right;\n",
       "    }\n",
       "</style>\n",
       "<table border=\"1\" class=\"dataframe\">\n",
       "  <thead>\n",
       "    <tr style=\"text-align: right;\">\n",
       "      <th></th>\n",
       "      <th>student</th>\n",
       "      <th>id</th>\n",
       "      <th>total_degree</th>\n",
       "    </tr>\n",
       "  </thead>\n",
       "  <tbody>\n",
       "    <tr>\n",
       "      <th>0</th>\n",
       "      <td>ali</td>\n",
       "      <td>5552</td>\n",
       "      <td>349</td>\n",
       "    </tr>\n",
       "  </tbody>\n",
       "</table>\n",
       "</div>"
      ],
      "text/plain": [
       "  student    id  total_degree\n",
       "0    ali   5552           349"
      ]
     },
     "execution_count": 5,
     "metadata": {},
     "output_type": "execute_result"
    }
   ],
   "source": [
    "def disply_total():\n",
    "    id_stud=int(input(\"enter your id:\".title()))\n",
    "    return df.loc[df.id==id_stud,[\"student\",\"id\",\"total_degree\"]]\n",
    "disply_total()"
   ]
  },
  {
   "cell_type": "markdown",
   "metadata": {},
   "source": [
    "## 4-graph \n"
   ]
  },
  {
   "cell_type": "code",
   "execution_count": 6,
   "metadata": {},
   "outputs": [
    {
     "name": "stdout",
     "output_type": "stream",
     "text": [
      "Enter Your Id:5552\n"
     ]
    },
    {
     "data": {
      "image/png": "[encoded data removed]",
      "text/plain": [
       "<Figure size 432x288 with 1 Axes>"
      ]
     },
     "metadata": {
      "needs_background": "light"
     },
     "output_type": "display_data"
    }
   ],
   "source": [
    "def show_graph():\n",
    "    \n",
    "    id_stud=int(input(\"enter your id:\".title()))\n",
    "    r=df.loc[df.id==id_stud,[\"math\",\"software\",\"python\",\"database\"]]\n",
    "    x=r.columns\n",
    "\n",
    "    y=r.values\n",
    "    y[0]\n",
    "    plt.xlabel(\"subject\", fontsize=14)\n",
    "    plt.ylabel(\"degree(max=100)\", fontsize=14)\n",
    "\n",
    "    plt.bar(x,y[0],linewidth=5)\n",
    "    return plt.show()\n",
    "show_graph()"
   ]
  },
  {
   "cell_type": "markdown",
   "metadata": {},
   "source": [
    "## 5-Presentation of the outstanding and failing student"
   ]
  },
  {
   "cell_type": "code",
   "execution_count": 7,
   "metadata": {},
   "outputs": [
    {
     "data": {
      "text/html": [
       "<div>\n",
       "<style scoped>\n",
       "    .dataframe tbody tr th:only-of-type {\n",
       "        vertical-align: middle;\n",
       "    }\n",
       "\n",
       "    .dataframe tbody tr th {\n",
       "        vertical-align: top;\n",
       "    }\n",
       "\n",
       "    .dataframe thead th {\n",
       "        text-align: right;\n",
       "    }\n",
       "</style>\n",
       "<table border=\"1\" class=\"dataframe\">\n",
       "  <thead>\n",
       "    <tr style=\"text-align: right;\">\n",
       "      <th></th>\n",
       "      <th>student</th>\n",
       "      <th>gpa</th>\n",
       "      <th>status</th>\n",
       "      <th>rating</th>\n",
       "    </tr>\n",
       "  </thead>\n",
       "  <tbody>\n",
       "    <tr>\n",
       "      <th>0</th>\n",
       "      <td>ali</td>\n",
       "      <td>87.25</td>\n",
       "      <td>pass</td>\n",
       "      <td>A+</td>\n",
       "    </tr>\n",
       "    <tr>\n",
       "      <th>1</th>\n",
       "      <td>maged</td>\n",
       "      <td>75.00</td>\n",
       "      <td>pass</td>\n",
       "      <td>B+</td>\n",
       "    </tr>\n",
       "    <tr>\n",
       "      <th>2</th>\n",
       "      <td>lara</td>\n",
       "      <td>79.75</td>\n",
       "      <td>pass</td>\n",
       "      <td>A</td>\n",
       "    </tr>\n",
       "    <tr>\n",
       "      <th>3</th>\n",
       "      <td>lily</td>\n",
       "      <td>53.00</td>\n",
       "      <td>failed</td>\n",
       "      <td>C</td>\n",
       "    </tr>\n",
       "  </tbody>\n",
       "</table>\n",
       "</div>"
      ],
      "text/plain": [
       "  student    gpa  status rating\n",
       "0    ali   87.25    pass     A+\n",
       "1  maged   75.00    pass     B+\n",
       "2   lara   79.75    pass      A\n",
       "3   lily   53.00  failed      C"
      ]
     },
     "execution_count": 7,
     "metadata": {},
     "output_type": "execute_result"
    }
   ],
   "source": [
    "def passed_failing():\n",
    "    return df[[\"student\",\"gpa\",\"status\",\"rating\"]]\n",
    "passed_failing()"
   ]
  },
  {
   "cell_type": "markdown",
   "metadata": {},
   "source": [
    "## 6-show statistics for student "
   ]
  },
  {
   "cell_type": "code",
   "execution_count": 8,
   "metadata": {},
   "outputs": [
    {
     "name": "stdout",
     "output_type": "stream",
     "text": [
      "Enter Your Id:5552\n"
     ]
    },
    {
     "data": {
      "text/html": [
       "<div>\n",
       "<style scoped>\n",
       "    .dataframe tbody tr th:only-of-type {\n",
       "        vertical-align: middle;\n",
       "    }\n",
       "\n",
       "    .dataframe tbody tr th {\n",
       "        vertical-align: top;\n",
       "    }\n",
       "\n",
       "    .dataframe thead th {\n",
       "        text-align: right;\n",
       "    }\n",
       "</style>\n",
       "<table border=\"1\" class=\"dataframe\">\n",
       "  <thead>\n",
       "    <tr style=\"text-align: right;\">\n",
       "      <th></th>\n",
       "      <th>math</th>\n",
       "      <th>software</th>\n",
       "      <th>python</th>\n",
       "      <th>database</th>\n",
       "    </tr>\n",
       "  </thead>\n",
       "  <tbody>\n",
       "    <tr>\n",
       "      <th>count</th>\n",
       "      <td>1.0</td>\n",
       "      <td>1.0</td>\n",
       "      <td>1.0</td>\n",
       "      <td>1.0</td>\n",
       "    </tr>\n",
       "    <tr>\n",
       "      <th>mean</th>\n",
       "      <td>87.0</td>\n",
       "      <td>76.0</td>\n",
       "      <td>88.0</td>\n",
       "      <td>98.0</td>\n",
       "    </tr>\n",
       "    <tr>\n",
       "      <th>std</th>\n",
       "      <td>NaN</td>\n",
       "      <td>NaN</td>\n",
       "      <td>NaN</td>\n",
       "      <td>NaN</td>\n",
       "    </tr>\n",
       "    <tr>\n",
       "      <th>min</th>\n",
       "      <td>87.0</td>\n",
       "      <td>76.0</td>\n",
       "      <td>88.0</td>\n",
       "      <td>98.0</td>\n",
       "    </tr>\n",
       "    <tr>\n",
       "      <th>25%</th>\n",
       "      <td>87.0</td>\n",
       "      <td>76.0</td>\n",
       "      <td>88.0</td>\n",
       "      <td>98.0</td>\n",
       "    </tr>\n",
       "    <tr>\n",
       "      <th>50%</th>\n",
       "      <td>87.0</td>\n",
       "      <td>76.0</td>\n",
       "      <td>88.0</td>\n",
       "      <td>98.0</td>\n",
       "    </tr>\n",
       "    <tr>\n",
       "      <th>75%</th>\n",
       "      <td>87.0</td>\n",
       "      <td>76.0</td>\n",
       "      <td>88.0</td>\n",
       "      <td>98.0</td>\n",
       "    </tr>\n",
       "    <tr>\n",
       "      <th>max</th>\n",
       "      <td>87.0</td>\n",
       "      <td>76.0</td>\n",
       "      <td>88.0</td>\n",
       "      <td>98.0</td>\n",
       "    </tr>\n",
       "  </tbody>\n",
       "</table>\n",
       "</div>"
      ],
      "text/plain": [
       "       math  software  python  database\n",
       "count   1.0       1.0     1.0       1.0\n",
       "mean   87.0      76.0    88.0      98.0\n",
       "std     NaN       NaN     NaN       NaN\n",
       "min    87.0      76.0    88.0      98.0\n",
       "25%    87.0      76.0    88.0      98.0\n",
       "50%    87.0      76.0    88.0      98.0\n",
       "75%    87.0      76.0    88.0      98.0\n",
       "max    87.0      76.0    88.0      98.0"
      ]
     },
     "execution_count": 8,
     "metadata": {},
     "output_type": "execute_result"
    }
   ],
   "source": [
    "def show_statistics():\n",
    "    id_stud=int(input(\"enter your id:\".title()))\n",
    "    return df.loc[df.id==id_stud,[\"math\",\"software\",\"python\",\"database\"]].describe()\n",
    "show_statistics()"
   ]
  },
  {
   "cell_type": "markdown",
   "metadata": {},
   "source": [
    "## 7-Search for a subject degree"
   ]
  },
  {
   "cell_type": "code",
   "execution_count": 9,
   "metadata": {},
   "outputs": [
    {
     "name": "stdout",
     "output_type": "stream",
     "text": [
      "Enter Your Id:5552\n",
      "inter name of subject: math\n"
     ]
    },
    {
     "data": {
      "text/html": [
       "<div>\n",
       "<style scoped>\n",
       "    .dataframe tbody tr th:only-of-type {\n",
       "        vertical-align: middle;\n",
       "    }\n",
       "\n",
       "    .dataframe tbody tr th {\n",
       "        vertical-align: top;\n",
       "    }\n",
       "\n",
       "    .dataframe thead th {\n",
       "        text-align: right;\n",
       "    }\n",
       "</style>\n",
       "<table border=\"1\" class=\"dataframe\">\n",
       "  <thead>\n",
       "    <tr style=\"text-align: right;\">\n",
       "      <th></th>\n",
       "      <th>math</th>\n",
       "    </tr>\n",
       "  </thead>\n",
       "  <tbody>\n",
       "    <tr>\n",
       "      <th>0</th>\n",
       "      <td>87</td>\n",
       "    </tr>\n",
       "  </tbody>\n",
       "</table>\n",
       "</div>"
      ],
      "text/plain": [
       "   math\n",
       "0    87"
      ]
     },
     "execution_count": 9,
     "metadata": {},
     "output_type": "execute_result"
    }
   ],
   "source": [
    "def search():\n",
    "    id_stud=int(input(\"enter your id:\".title()))\n",
    "    sub_name =str(input(\"inter name of subject: \"))\n",
    "    return df.loc[df.id==id_stud,[sub_name]]\n",
    "search()"
   ]
  },
  {
   "cell_type": "markdown",
   "metadata": {},
   "source": [
    "## 8-Deleting a subject's grade for a student"
   ]
  },
  {
   "cell_type": "code",
   "execution_count": 10,
   "metadata": {},
   "outputs": [
    {
     "name": "stdout",
     "output_type": "stream",
     "text": [
      "Enter Your Id:5552\n",
      "inter name of subject: database\n"
     ]
    },
    {
     "name": "stderr",
     "output_type": "stream",
     "text": [
      "C:\\Users\\DELL\\anaconda31\\lib\\site-packages\\pandas\\core\\indexing.py:965: SettingWithCopyWarning: \n",
      "A value is trying to be set on a copy of a slice from a DataFrame.\n",
      "Try using .loc[row_indexer,col_indexer] = value instead\n",
      "\n",
      "See the caveats in the documentation: https://pandas.pydata.org/pandas-docs/stable/user_guide/indexing.html#returning-a-view-versus-a-copy\n",
      "  self.obj[item] = s\n"
     ]
    },
    {
     "data": {
      "text/html": [
       "<div>\n",
       "<style scoped>\n",
       "    .dataframe tbody tr th:only-of-type {\n",
       "        vertical-align: middle;\n",
       "    }\n",
       "\n",
       "    .dataframe tbody tr th {\n",
       "        vertical-align: top;\n",
       "    }\n",
       "\n",
       "    .dataframe thead th {\n",
       "        text-align: right;\n",
       "    }\n",
       "</style>\n",
       "<table border=\"1\" class=\"dataframe\">\n",
       "  <thead>\n",
       "    <tr style=\"text-align: right;\">\n",
       "      <th></th>\n",
       "      <th>student</th>\n",
       "      <th>id</th>\n",
       "      <th>math</th>\n",
       "      <th>database</th>\n",
       "      <th>software</th>\n",
       "      <th>python</th>\n",
       "      <th>gpa</th>\n",
       "      <th>total_degree</th>\n",
       "      <th>status</th>\n",
       "      <th>department</th>\n",
       "      <th>rating</th>\n",
       "    </tr>\n",
       "  </thead>\n",
       "  <tbody>\n",
       "    <tr>\n",
       "      <th>0</th>\n",
       "      <td>ali</td>\n",
       "      <td>5552</td>\n",
       "      <td>87</td>\n",
       "      <td>0</td>\n",
       "      <td>76</td>\n",
       "      <td>88</td>\n",
       "      <td>87.25</td>\n",
       "      <td>349</td>\n",
       "      <td>pass</td>\n",
       "      <td>cs</td>\n",
       "      <td>A+</td>\n",
       "    </tr>\n",
       "  </tbody>\n",
       "</table>\n",
       "</div>"
      ],
      "text/plain": [
       "  student    id  math  database  software  python    gpa  total_degree status  \\\n",
       "0    ali   5552    87         0        76      88  87.25           349   pass   \n",
       "\n",
       "  department rating  \n",
       "0         cs     A+  "
      ]
     },
     "execution_count": 10,
     "metadata": {},
     "output_type": "execute_result"
    }
   ],
   "source": [
    "def Deleting():\n",
    "    \n",
    "    id_stud=int(input(\"enter your id:\".title()))\n",
    "    sub_name =str(input(\"inter name of subject: \"))\n",
    "    st1=df.loc[df.id==id_stud]\n",
    "    st1.loc[0,[sub_name]]=0\n",
    "    return st1\n",
    "Deleting()"
   ]
  },
  {
   "cell_type": "markdown",
   "metadata": {},
   "source": [
    "## 9-split main file into two equal files"
   ]
  },
  {
   "cell_type": "code",
   "execution_count": 11,
   "metadata": {},
   "outputs": [],
   "source": [
    "def split():\n",
    "    split1=df[:2].to_excel(\"first_file.xlsx\")\n",
    "    split2=df[2:].to_excel(\"secound_file.xlsx\")\n",
    "    return split1,split2"
   ]
  },
  {
   "cell_type": "code",
   "execution_count": 12,
   "metadata": {},
   "outputs": [],
   "source": [
    "def main_menu():\n",
    "    print(\"####### welcome #######\")\n",
    "    print(\"for display the data for each student press 1\")\n",
    "    print(\"for display the data for each student /specific student press 2 \")\n",
    "    print(\"for display the sources for specific student press 3\")\n",
    "    print(\"for display the total grades 4\")\n",
    "    print(\"for graph press 5\")\n",
    "    print(\"for Presentation of the outstanding and failing student press 6\")\n",
    "    print(\"for show statistics for student press 7\")\n",
    "    print(\"for Search for a subject degree 8\")\n",
    "    print(\"for Deleting a subject's grade for a student press 9\")\n",
    "    print(\"for split main file into two equal files 10\")"
   ]
  },
  {
   "cell_type": "code",
   "execution_count": 15,
   "metadata": {},
   "outputs": [
    {
     "name": "stdout",
     "output_type": "stream",
     "text": [
      "####### welcome #######\n",
      "for display the data for each student press 1\n",
      "for display the data for each student /specific student press 2 \n",
      "for display the sources for specific student press 3\n",
      "for display the total grades 4\n",
      "for graph press 5\n",
      "for Presentation of the outstanding and failing student press 6\n",
      "for show statistics for student press 7\n",
      "for Search for a subject degree 8\n",
      "for Deleting a subject's grade for a student press 9\n",
      "for split main file into two equal files 10\n",
      "inter yor option here:2\n",
      "Enter Your Id:5552\n",
      "  student    id status department\n",
      "0    ali   5552   pass         cs\n",
      "goodby\n"
     ]
    }
   ],
   "source": [
    "main_menu()\n",
    "option=input(str(\"inter yor option here:\"))\n",
    "while (option !=\"10\"):\n",
    "    if option ==\"1\":\n",
    "        print(disply())\n",
    "        break\n",
    "    elif option==\"2\":\n",
    "        print(disply_stud())\n",
    "        break\n",
    "    elif option ==\"3\":\n",
    "        print(disply_student_result())\n",
    "        break\n",
    "    elif option==\"4\":\n",
    "        print(disply_total())\n",
    "        break\n",
    "    elif option==\"5\":\n",
    "        print(show_graph())\n",
    "        break\n",
    "    elif option==\"6\":\n",
    "        print(passed_failing())\n",
    "        break\n",
    "    elif option==\"7\":\n",
    "        show_statistics()\n",
    "        break\n",
    "        continue\n",
    "    elif option==\"8\":\n",
    "        search()\n",
    "        break\n",
    "    elif option==\"9\":\n",
    "        split()\n",
    "        break\n",
    "    else :\n",
    "        print(\"invalid option\")\n",
    "        mainMenu()\n",
    "        option =input ('enter option from the below options :')\n",
    "print ('goodby')"
   ]
  },
  {
   "cell_type": "code",
   "execution_count": null,
   "metadata": {},
   "outputs": [],
   "source": []
  }
 ],
 "metadata": {
  "kernelspec": {
   "display_name": "Python 3",
   "language": "python",
   "name": "python3"
  },
  "language_info": {
   "codemirror_mode": {
    "name": "ipython",
    "version": 3
   },
   "file_extension": ".py",
   "mimetype": "text/x-python",
   "name": "python",
   "nbconvert_exporter": "python",
   "pygments_lexer": "ipython3",
   "version": "3.7.6"
  }
 },
 "nbformat": 4,
 "nbformat_minor": 4
}
